{
 "cells": [
  {
   "cell_type": "code",
   "execution_count": 2,
   "id": "591aff19",
   "metadata": {},
   "outputs": [],
   "source": [
    "import pandas as pd\n",
    "import pickle\n",
    "import numpy as npy\n",
    "dict_table = pd.read_csv('2022_world_cup_groups.csv')\n",
    "df_fixture = pd.read_csv('2022_world_cup_matches.csv')\n",
    "df3 = pd.read_csv('data_dictionary.csv')\n",
    "df_historical_data = pd.read_csv('international_matches.csv')\n",
    "df4 = pd.read_csv('world_cup_matches.csv')\n",
    "df5 = pd.read_csv('world_cups.csv')"
   ]
  },
  {
   "cell_type": "markdown",
   "id": "07255a72",
   "metadata": {},
   "source": [
    "#CALCULATING TEAM STRENGTH"
   ]
  },
  {
   "cell_type": "code",
   "execution_count": 3,
   "id": "77b6c319",
   "metadata": {},
   "outputs": [],
   "source": [
    "df_home = df_historical_data[['Home Team', 'Home Goals', 'Away Goals']]\n",
    "df_away = df_historical_data[['Away Team', 'Home Goals', 'Away Goals']]"
   ]
  },
  {
   "cell_type": "code",
   "execution_count": 4,
   "id": "79ffe6da",
   "metadata": {},
   "outputs": [],
   "source": [
    "df_home = df_home.rename(columns={'Home Team': 'Team', 'Home Goals': 'GoalsScored', 'Away Goals': 'GoalsConceded'})\n",
    "df_away = df_away.rename(columns={'Away Team': 'Team', 'Home Goals': 'GoalsConceded', 'Away Goals': 'GoalsScored'})"
   ]
  },
  {
   "cell_type": "code",
   "execution_count": 5,
   "id": "b41eed11",
   "metadata": {},
   "outputs": [],
   "source": [
    "df_team_strength = pd.concat([df_home, df_away], ignore_index=True).groupby('Team').mean()"
   ]
  },
  {
   "cell_type": "markdown",
   "id": "84fba2ba",
   "metadata": {},
   "source": [
    "FUNCTION PREDICT POINTS"
   ]
  },
  {
   "cell_type": "code",
   "execution_count": 6,
   "id": "cd09a160",
   "metadata": {},
   "outputs": [],
   "source": [
    "def predict_points(home, away):\n",
    "    if home in df_team_strength.index and away in df_team_strength.index:\n",
    "        # goals_scored * goals_conceded\n",
    "        lamb_home = df_team_strength.at[home,'GoalsScored'] * df_team_strength.at[away,'GoalsConceded']\n",
    "        lamb_away = df_team_strength.at[away,'GoalsScored'] * df_team_strength.at[home,'GoalsConceded']\n",
    "        prob_home, prob_away, prob_draw = 0, 0, 0\n",
    "        for x in range(0,11): #number of goals home team\n",
    "            for y in range(0, 11): #number of goals away team\n",
    "                p = poisson.pmf(x, lamb_home) * poisson.pmf(y, lamb_away)\n",
    "                if x == y:\n",
    "                    prob_draw += p\n",
    "                elif x > y:\n",
    "                    prob_home += p\n",
    "                else:\n",
    "                    prob_away += p\n",
    "        \n",
    "        points_home = 3 * prob_home + prob_draw\n",
    "        points_away = 3 * prob_away + prob_draw\n",
    "        return (points_home, points_away)\n",
    "    else:\n",
    "        return (0, 0)"
   ]
  },
  {
   "cell_type": "markdown",
   "id": "54c5d7b3",
   "metadata": {},
   "source": [
    "PREDICT WORLD CUP\n",
    "group stage"
   ]
  },
  {
   "cell_type": "code",
   "execution_count": 7,
   "id": "080f79e4",
   "metadata": {},
   "outputs": [],
   "source": [
    "df_fixture_group_48 = df_fixture[:48].copy()\n",
    "df_fixture_knockout = df_fixture[48:56].copy()\n",
    "df_fixture_quarter = df_fixture[56:60].copy()\n",
    "df_fixture_semi = df_fixture[60:62].copy()\n",
    "df_fixture_final = df_fixture[62:].copy()"
   ]
  },
  {
   "cell_type": "code",
   "execution_count": 8,
   "id": "f8b43646",
   "metadata": {},
   "outputs": [],
   "source": [
    "Group_A = dict_table.loc[0:3, ['Group','Team']]\n",
    "Group_B = dict_table.loc[4:7, ['Group','Team']]\n",
    "Group_C = dict_table.loc[8:11, ['Group','Team']]\n",
    "Group_D = dict_table.loc[12:15, ['Group','Team']]\n",
    "Group_E = dict_table.loc[16:19, ['Group','Team']]\n",
    "Group_F = dict_table.loc[20:23, ['Group','Team']]\n",
    "Group_G = dict_table.loc[24:27, ['Group','Team']]\n",
    "Group_H = dict_table.loc[28:31, ['Group','Team']]\n",
    "\n",
    "group = [Group_A,Group_B,Group_C,Group_D,Group_E,Group_F,Group_G,Group_H]"
   ]
  },
  {
   "cell_type": "code",
   "execution_count": 9,
   "id": "fb482e18",
   "metadata": {
    "scrolled": true
   },
   "outputs": [
    {
     "data": {
      "text/plain": [
       "\"for group in dict_table:\\n    teams_in_group = dict_table['Team'].values\\n    df_fixture_group_6 = df_fixture_group_48\\n    for index, row in df_fixture_group_6.iterrows():\\n        home, away = row['home'], row['away']\\n        points_home, points_away = predict_points(home, away)\\n        dict_table[group].loc[dict_table[group]['Team'] == home, 'Pts'] += points_home\\n        dict_table[group].loc[dict_table[group]['Team'] == away, 'Pts'] += points_away\\n    dict_table[group] = dict_table[group].sort_values('Pts', ascending=False).reset_index()\\n    dict_table[group] = dict_table[group][['Team', 'Pts']]\\n    dict_table[group] = dict_table[group].round(0)\\n\""
      ]
     },
     "execution_count": 9,
     "metadata": {},
     "output_type": "execute_result"
    }
   ],
   "source": [
    "# run all matches in the group stage and update group tables\n",
    "\"\"\"for group in dict_table:\n",
    "    teams_in_group = dict_table['Team'].values\n",
    "    df_fixture_group_6 = df_fixture_group_48\n",
    "    for index, row in df_fixture_group_6.iterrows():\n",
    "        home, away = row['home'], row['away']\n",
    "        points_home, points_away = predict_points(home, away)\n",
    "        dict_table[group].loc[dict_table[group]['Team'] == home, 'Pts'] += points_home\n",
    "        dict_table[group].loc[dict_table[group]['Team'] == away, 'Pts'] += points_away\n",
    "    dict_table[group] = dict_table[group].sort_values('Pts', ascending=False).reset_index()\n",
    "    dict_table[group] = dict_table[group][['Team', 'Pts']]\n",
    "    dict_table[group] = dict_table[group].round(0)\n",
    "\"\"\"\n",
    "  "
   ]
  }
 ],
 "metadata": {
  "kernelspec": {
   "display_name": "Python 3",
   "language": "python",
   "name": "python3"
  },
  "language_info": {
   "codemirror_mode": {
    "name": "ipython",
    "version": 3
   },
   "file_extension": ".py",
   "mimetype": "text/x-python",
   "name": "python",
   "nbconvert_exporter": "python",
   "pygments_lexer": "ipython3",
   "version": "3.10.7"
  },
  "vscode": {
   "interpreter": {
    "hash": "a5bfce5b227dbb16e60c63185f523a92bf95313387d0ee6ed2b6a167ec2bbd39"
   }
  }
 },
 "nbformat": 4,
 "nbformat_minor": 5
}
